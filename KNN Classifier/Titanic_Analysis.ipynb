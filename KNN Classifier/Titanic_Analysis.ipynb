{
  "cells": [
    {
      "cell_type": "markdown",
      "metadata": {
        "id": "view-in-github"
      },
      "source": [
        "<a href=\"https://colab.research.google.com/github/EstherOgutu/Nairobi-Hospital-Hypothyroidism-Analysis/blob/main/Nairobi_Hospital.ipynb\" target=\"_parent\"><img src=\"https://colab.research.google.com/assets/colab-badge.svg\" alt=\"Open In Colab\"/></a>"
      ]
    },
    {
      "cell_type": "markdown",
      "metadata": {
        "id": "bIEAiSijqpPu"
      },
      "source": [
        "# TITANIC PASSENGER SURVIVAL ANALYSIS"
      ]
    },
    {
      "cell_type": "markdown",
      "metadata": {
        "id": "fXLUAE6YqvBY"
      },
      "source": [
        "##1. Defining the Question"
      ]
    },
    {
      "cell_type": "markdown",
      "metadata": {
        "id": "KvBluuIGCkPp"
      },
      "source": [
        "###a) Specifying the Data Analytic Question\n"
      ]
    },
    {
      "cell_type": "markdown",
      "metadata": {
        "id": "dO2UP6itJoqG"
      },
      "source": [
        "This is an analysis to predict whether or not a passenger survived in the Titanic."
      ]
    },
    {
      "cell_type": "markdown",
      "metadata": {
        "id": "V0Vry7w8Ct9T"
      },
      "source": [
        "###b) Defining the Metric of Success\n"
      ]
    },
    {
      "cell_type": "markdown",
      "metadata": {
        "id": "kAvDy2wVJwwC"
      },
      "source": [
        "The metric of success for this project is to build a model using KNN technique, which can predic whether or not the passengers who bored the titanic survived or not. The accuracy level of the prediction model should be atleast 80% to be termed as a good model."
      ]
    },
    {
      "cell_type": "markdown",
      "metadata": {
        "id": "7Sx-Q9BfCxUr"
      },
      "source": [
        "###c) Understanding the Context\n"
      ]
    },
    {
      "cell_type": "markdown",
      "metadata": {
        "id": "gVwfj5YCKXV1"
      },
      "source": [
        "Titanic, in full Royal Mail Ship (RMS) Titanic, British luxury passenger liner that sank on April 14–15, 1912, during its maiden voyage, en route to New York City from Southampton, England, killing about 1,500 (see Researcher’s Note: Titanic) passengers and ship personnel. One of the most famous tragedies in modern history, it inspired numerous stories, several films, and a musical and has been the subject of much scholarship and scientific speculation."
      ]
    },
    {
      "cell_type": "markdown",
      "metadata": {
        "id": "NjtReVtBC0F0"
      },
      "source": [
        "###d) Recording the Experimental Data\n"
      ]
    },
    {
      "cell_type": "markdown",
      "metadata": {
        "id": "fSPwBxLJKy4-"
      },
      "source": [
        "For this project, I will perform the following actions:\n",
        "\n",
        "1.Reading the data.\n",
        "\n",
        "2.Checking the data.\n",
        "\n",
        "3.Tidying the datasets Analysis. For the cleaning part, I will check for outliers, anomalies, missing values,checking for duplicates,dropping unnecessary columns and changing the column names into lowercase for uniformity and stripping off whitespaces and dashes.\n",
        "\n",
        "4.I will the perform EDA (Univariate and Bivariate).\n",
        "\n",
        "5 Performing Predictive Anaysis using:\n",
        "\n",
        "      -K-nearest neighbor (kNN) classifier.\n",
        "6.I will apply one optimization technique to optimize my model for better performance.\n",
        "\n",
        "7.Challenge your solution by providing insights on how you can make improvements in model improvement.\n",
        "\n"
      ]
    },
    {
      "cell_type": "markdown",
      "metadata": {
        "id": "gqQwJESvC3Pk"
      },
      "source": [
        "###e) Data Relevance"
      ]
    },
    {
      "cell_type": "markdown",
      "metadata": {
        "id": "asyrPFtZMtRf"
      },
      "source": [
        "The data has been obtained from Kaggle. The data has attributes that are crucial to predict whether or not a passenger survived in the Titanic incident.This will help to establish the number of survivors and those that perished in the Titanic incident."
      ]
    },
    {
      "cell_type": "markdown",
      "metadata": {
        "id": "3LmOVfAKC5O_"
      },
      "source": [
        "##2. Reading Data"
      ]
    },
    {
      "cell_type": "code",
      "execution_count": 137,
      "metadata": {
        "id": "xHinEfXQC82o"
      },
      "outputs": [],
      "source": [
        "# Importing the Libraries that we will use\n",
        "\n",
        "import pandas as pd\n",
        "import numpy as np\n",
        "import matplotlib.pyplot as plt\n",
        "%matplotlib inline\n",
        "import seaborn as sns\n",
        "import warnings\n",
        "warnings.filterwarnings(\"ignore\")\n",
        "import plotly.express as px\n",
        "from tabulate import tabulate\n",
        "from sklearn.preprocessing import LabelEncoder\n",
        "from sklearn.model_selection import train_test_split\n",
        "from sklearn.preprocessing import StandardScaler\n",
        "from sklearn.neighbors import KNeighborsClassifier\n",
        "from sklearn.metrics import confusion_matrix\n",
        "from sklearn.metrics import accuracy_score\n",
        "from sklearn.metrics import classification_report\n",
        "from sklearn.discriminant_analysis import LinearDiscriminantAnalysis as LDA\n",
        "from sklearn import metrics\n",
        "from sklearn.metrics import mean_squared_error,r2_score,f1_score\n",
        "\n"
      ]
    },
    {
      "cell_type": "code",
      "execution_count": 3,
      "metadata": {
        "id": "Snnm1_Qr9Cej"
      },
      "outputs": [],
      "source": [
        "# Let's expand the no of visible columns of dataframe\n",
        "pd.set_option(\"display.max.columns\", None)"
      ]
    },
    {
      "cell_type": "code",
      "execution_count": 4,
      "metadata": {
        "id": "9Ht8k1w69D8e"
      },
      "outputs": [],
      "source": [
        "# Reading the data from the dataset\n",
        "train=pd.read_csv('train.csv')\n",
        "test=pd.read_csv('test.csv')"
      ]
    },
    {
      "cell_type": "markdown",
      "metadata": {
        "id": "KGsexclhG_J5"
      },
      "source": [
        "##3. Checking the data"
      ]
    },
    {
      "cell_type": "code",
      "execution_count": 5,
      "metadata": {
        "colab": {
          "base_uri": "https://localhost:8080/"
        },
        "id": "In6VU00pHEK6",
        "outputId": "f20c4aad-2a34-4482-af92-438cc73316ba"
      },
      "outputs": [
        {
          "name": "stdout",
          "output_type": "stream",
          "text": [
            "+----+---------------+------------+----------+-----------------------------------------------------+--------+-------+---------+---------+------------------+---------+---------+------------+\n",
            "|    |   PassengerId |   Survived |   Pclass | Name                                                | Sex    |   Age |   SibSp |   Parch | Ticket           |    Fare | Cabin   | Embarked   |\n",
            "|----+---------------+------------+----------+-----------------------------------------------------+--------+-------+---------+---------+------------------+---------+---------+------------|\n",
            "|  0 |             1 |          0 |        3 | Braund, Mr. Owen Harris                             | male   |    22 |       1 |       0 | A/5 21171        |  7.25   | nan     | S          |\n",
            "|  1 |             2 |          1 |        1 | Cumings, Mrs. John Bradley (Florence Briggs Thayer) | female |    38 |       1 |       0 | PC 17599         | 71.2833 | C85     | C          |\n",
            "|  2 |             3 |          1 |        3 | Heikkinen, Miss. Laina                              | female |    26 |       0 |       0 | STON/O2. 3101282 |  7.925  | nan     | S          |\n",
            "|  3 |             4 |          1 |        1 | Futrelle, Mrs. Jacques Heath (Lily May Peel)        | female |    35 |       1 |       0 | 113803           | 53.1    | C123    | S          |\n",
            "|  4 |             5 |          0 |        3 | Allen, Mr. William Henry                            | male   |    35 |       0 |       0 | 373450           |  8.05   | nan     | S          |\n",
            "+----+---------------+------------+----------+-----------------------------------------------------+--------+-------+---------+---------+------------------+---------+---------+------------+\n"
          ]
        }
      ],
      "source": [
        "# Previewing the first five record in the train dataset\n",
        "# A function to display the first five records of a dataset\n",
        "def head(df):\n",
        "  print(tabulate(df.head(), headers='keys', tablefmt='psql'))\n",
        "head(train)"
      ]
    },
    {
      "cell_type": "code",
      "execution_count": 6,
      "metadata": {
        "colab": {
          "base_uri": "https://localhost:8080/"
        },
        "id": "m0WEw2ZlG2Da",
        "outputId": "e411ecd2-783f-44e6-b703-b9170145a44f"
      },
      "outputs": [
        {
          "name": "stdout",
          "output_type": "stream",
          "text": [
            "+-----+---------------+------------+----------+------------------------------------------+--------+-------+---------+---------+------------+--------+---------+------------+\n",
            "|     |   PassengerId |   Survived |   Pclass | Name                                     | Sex    |   Age |   SibSp |   Parch | Ticket     |   Fare | Cabin   | Embarked   |\n",
            "|-----+---------------+------------+----------+------------------------------------------+--------+-------+---------+---------+------------+--------+---------+------------|\n",
            "| 886 |           887 |          0 |        2 | Montvila, Rev. Juozas                    | male   |    27 |       0 |       0 | 211536     |  13    | nan     | S          |\n",
            "| 887 |           888 |          1 |        1 | Graham, Miss. Margaret Edith             | female |    19 |       0 |       0 | 112053     |  30    | B42     | S          |\n",
            "| 888 |           889 |          0 |        3 | Johnston, Miss. Catherine Helen \"Carrie\" | female |   nan |       1 |       2 | W./C. 6607 |  23.45 | nan     | S          |\n",
            "| 889 |           890 |          1 |        1 | Behr, Mr. Karl Howell                    | male   |    26 |       0 |       0 | 111369     |  30    | C148    | C          |\n",
            "| 890 |           891 |          0 |        3 | Dooley, Mr. Patrick                      | male   |    32 |       0 |       0 | 370376     |   7.75 | nan     | Q          |\n",
            "+-----+---------------+------------+----------+------------------------------------------+--------+-------+---------+---------+------------+--------+---------+------------+\n"
          ]
        }
      ],
      "source": [
        "# Previewing the last five record in the train dataset\n",
        "# A function to display the last five records of a dataset\n",
        "def tail(df):\n",
        "  print(tabulate(df.tail(), headers='keys', tablefmt='psql'))\n",
        "tail(train)"
      ]
    },
    {
      "cell_type": "code",
      "execution_count": 7,
      "metadata": {
        "colab": {
          "base_uri": "https://localhost:8080/"
        },
        "id": "SGhJQg4QyBmS",
        "outputId": "c6c1652e-eb3f-4250-8058-43679ffb4cbd"
      },
      "outputs": [
        {
          "name": "stdout",
          "output_type": "stream",
          "text": [
            "+----+---------------+----------+----------------------------------------------+--------+-------+---------+---------+----------+---------+---------+------------+\n",
            "|    |   PassengerId |   Pclass | Name                                         | Sex    |   Age |   SibSp |   Parch |   Ticket |    Fare |   Cabin | Embarked   |\n",
            "|----+---------------+----------+----------------------------------------------+--------+-------+---------+---------+----------+---------+---------+------------|\n",
            "|  0 |           892 |        3 | Kelly, Mr. James                             | male   |  34.5 |       0 |       0 |   330911 |  7.8292 |     nan | Q          |\n",
            "|  1 |           893 |        3 | Wilkes, Mrs. James (Ellen Needs)             | female |  47   |       1 |       0 |   363272 |  7      |     nan | S          |\n",
            "|  2 |           894 |        2 | Myles, Mr. Thomas Francis                    | male   |  62   |       0 |       0 |   240276 |  9.6875 |     nan | Q          |\n",
            "|  3 |           895 |        3 | Wirz, Mr. Albert                             | male   |  27   |       0 |       0 |   315154 |  8.6625 |     nan | S          |\n",
            "|  4 |           896 |        3 | Hirvonen, Mrs. Alexander (Helga E Lindqvist) | female |  22   |       1 |       1 |  3101298 | 12.2875 |     nan | S          |\n",
            "+----+---------------+----------+----------------------------------------------+--------+-------+---------+---------+----------+---------+---------+------------+\n"
          ]
        }
      ],
      "source": [
        "# Previewing the first five record in the test dataset\n",
        "head(test)"
      ]
    },
    {
      "cell_type": "code",
      "execution_count": 8,
      "metadata": {
        "colab": {
          "base_uri": "https://localhost:8080/"
        },
        "id": "zsDuuw2zyTVf",
        "outputId": "d25c2c27-7178-4a9d-a484-29f7be956cce"
      },
      "outputs": [
        {
          "name": "stdout",
          "output_type": "stream",
          "text": [
            "+-----+---------------+----------+------------------------------+--------+-------+---------+---------+--------------------+----------+---------+------------+\n",
            "|     |   PassengerId |   Pclass | Name                         | Sex    |   Age |   SibSp |   Parch | Ticket             |     Fare | Cabin   | Embarked   |\n",
            "|-----+---------------+----------+------------------------------+--------+-------+---------+---------+--------------------+----------+---------+------------|\n",
            "| 413 |          1305 |        3 | Spector, Mr. Woolf           | male   | nan   |       0 |       0 | A.5. 3236          |   8.05   | nan     | S          |\n",
            "| 414 |          1306 |        1 | Oliva y Ocana, Dona. Fermina | female |  39   |       0 |       0 | PC 17758           | 108.9    | C105    | C          |\n",
            "| 415 |          1307 |        3 | Saether, Mr. Simon Sivertsen | male   |  38.5 |       0 |       0 | SOTON/O.Q. 3101262 |   7.25   | nan     | S          |\n",
            "| 416 |          1308 |        3 | Ware, Mr. Frederick          | male   | nan   |       0 |       0 | 359309             |   8.05   | nan     | S          |\n",
            "| 417 |          1309 |        3 | Peter, Master. Michael J     | male   | nan   |       1 |       1 | 2668               |  22.3583 | nan     | C          |\n",
            "+-----+---------------+----------+------------------------------+--------+-------+---------+---------+--------------------+----------+---------+------------+\n"
          ]
        }
      ],
      "source": [
        "# Previewing the last five record in the test dataset\n",
        "tail(test)"
      ]
    },
    {
      "cell_type": "code",
      "execution_count": 9,
      "metadata": {
        "colab": {
          "base_uri": "https://localhost:8080/"
        },
        "id": "r-kSiDROHSau",
        "outputId": "ef18cf73-4714-4462-fd6b-c1fd1ca848d1"
      },
      "outputs": [
        {
          "name": "stdout",
          "output_type": "stream",
          "text": [
            "(891, 12)\n",
            "(418, 11)\n"
          ]
        }
      ],
      "source": [
        "# Checking the shape of the train and test datasets (rows and columns)\n",
        "print(train.shape)\n",
        "print(test.shape)"
      ]
    },
    {
      "cell_type": "markdown",
      "metadata": {
        "id": "f9mJKpO398jP"
      },
      "source": [
        "Our train dataset has 891 rows and 12 columns, while our test dataset has 418 rows and 11 columns."
      ]
    },
    {
      "cell_type": "code",
      "execution_count": 10,
      "metadata": {
        "colab": {
          "base_uri": "https://localhost:8080/"
        },
        "id": "632I87PFzSJ6",
        "outputId": "e66e4bbb-f0e2-45ab-e21c-43938455ca07"
      },
      "outputs": [
        {
          "name": "stdout",
          "output_type": "stream",
          "text": [
            "<class 'pandas.core.frame.DataFrame'>\n",
            "RangeIndex: 891 entries, 0 to 890\n",
            "Data columns (total 12 columns):\n",
            " #   Column       Non-Null Count  Dtype  \n",
            "---  ------       --------------  -----  \n",
            " 0   PassengerId  891 non-null    int64  \n",
            " 1   Survived     891 non-null    int64  \n",
            " 2   Pclass       891 non-null    int64  \n",
            " 3   Name         891 non-null    object \n",
            " 4   Sex          891 non-null    object \n",
            " 5   Age          714 non-null    float64\n",
            " 6   SibSp        891 non-null    int64  \n",
            " 7   Parch        891 non-null    int64  \n",
            " 8   Ticket       891 non-null    object \n",
            " 9   Fare         891 non-null    float64\n",
            " 10  Cabin        204 non-null    object \n",
            " 11  Embarked     889 non-null    object \n",
            "dtypes: float64(2), int64(5), object(5)\n",
            "memory usage: 83.7+ KB\n",
            "None\n",
            "<class 'pandas.core.frame.DataFrame'>\n",
            "RangeIndex: 418 entries, 0 to 417\n",
            "Data columns (total 11 columns):\n",
            " #   Column       Non-Null Count  Dtype  \n",
            "---  ------       --------------  -----  \n",
            " 0   PassengerId  418 non-null    int64  \n",
            " 1   Pclass       418 non-null    int64  \n",
            " 2   Name         418 non-null    object \n",
            " 3   Sex          418 non-null    object \n",
            " 4   Age          332 non-null    float64\n",
            " 5   SibSp        418 non-null    int64  \n",
            " 6   Parch        418 non-null    int64  \n",
            " 7   Ticket       418 non-null    object \n",
            " 8   Fare         417 non-null    float64\n",
            " 9   Cabin        91 non-null     object \n",
            " 10  Embarked     418 non-null    object \n",
            "dtypes: float64(2), int64(4), object(5)\n",
            "memory usage: 36.0+ KB\n",
            "None\n"
          ]
        }
      ],
      "source": [
        "# Understanding our datasets dataset \n",
        "print(train.info())\n",
        "print(test.info())"
      ]
    },
    {
      "cell_type": "code",
      "execution_count": 11,
      "metadata": {
        "colab": {
          "base_uri": "https://localhost:8080/"
        },
        "id": "T79_TcA4HjU9",
        "outputId": "f7155c97-f439-4df8-caba-19a899aa0bf2"
      },
      "outputs": [
        {
          "name": "stdout",
          "output_type": "stream",
          "text": [
            "PassengerId      int64\n",
            "Survived         int64\n",
            "Pclass           int64\n",
            "Name            object\n",
            "Sex             object\n",
            "Age            float64\n",
            "SibSp            int64\n",
            "Parch            int64\n",
            "Ticket          object\n",
            "Fare           float64\n",
            "Cabin           object\n",
            "Embarked        object\n",
            "dtype: object\n",
            "PassengerId      int64\n",
            "Pclass           int64\n",
            "Name            object\n",
            "Sex             object\n",
            "Age            float64\n",
            "SibSp            int64\n",
            "Parch            int64\n",
            "Ticket          object\n",
            "Fare           float64\n",
            "Cabin           object\n",
            "Embarked        object\n",
            "dtype: object\n"
          ]
        }
      ],
      "source": [
        "# Checking all the columns have the appropriate datatype\n",
        "print(train.dtypes)\n",
        "print(test.dtypes)"
      ]
    },
    {
      "cell_type": "code",
      "execution_count": 12,
      "metadata": {
        "colab": {
          "base_uri": "https://localhost:8080/"
        },
        "id": "FZ3mub5xIONF",
        "outputId": "2da8e68a-0e99-40b6-f57e-31f9018a2816"
      },
      "outputs": [
        {
          "name": "stdout",
          "output_type": "stream",
          "text": [
            "+-------+---------------+------------+------------+----------+------------+------------+----------+\n",
            "|       |   PassengerId |   Survived |     Pclass |      Age |      SibSp |      Parch |     Fare |\n",
            "|-------+---------------+------------+------------+----------+------------+------------+----------|\n",
            "| count |       891     | 891        | 891        | 714      | 891        | 891        | 891      |\n",
            "| mean  |       446     |   0.383838 |   2.30864  |  29.6991 |   0.523008 |   0.381594 |  32.2042 |\n",
            "| std   |       257.354 |   0.486592 |   0.836071 |  14.5265 |   1.10274  |   0.806057 |  49.6934 |\n",
            "| min   |         1     |   0        |   1        |   0.42   |   0        |   0        |   0      |\n",
            "| 25%   |       223.5   |   0        |   2        |  20.125  |   0        |   0        |   7.9104 |\n",
            "| 50%   |       446     |   0        |   3        |  28      |   0        |   0        |  14.4542 |\n",
            "| 75%   |       668.5   |   1        |   3        |  38      |   1        |   0        |  31      |\n",
            "| max   |       891     |   1        |   3        |  80      |   8        |   6        | 512.329  |\n",
            "+-------+---------------+------------+------------+----------+------------+------------+----------+\n",
            "+-------+---------------+------------+----------+------------+------------+----------+\n",
            "|       |   PassengerId |     Pclass |      Age |      SibSp |      Parch |     Fare |\n",
            "|-------+---------------+------------+----------+------------+------------+----------|\n",
            "| count |        418    | 418        | 332      | 418        | 418        | 417      |\n",
            "| mean  |       1100.5  |   2.26555  |  30.2726 |   0.447368 |   0.392344 |  35.6272 |\n",
            "| std   |        120.81 |   0.841838 |  14.1812 |   0.89676  |   0.981429 |  55.9076 |\n",
            "| min   |        892    |   1        |   0.17   |   0        |   0        |   0      |\n",
            "| 25%   |        996.25 |   1        |  21      |   0        |   0        |   7.8958 |\n",
            "| 50%   |       1100.5  |   3        |  27      |   0        |   0        |  14.4542 |\n",
            "| 75%   |       1204.75 |   3        |  39      |   1        |   0        |  31.5    |\n",
            "| max   |       1309    |   3        |  76      |   8        |   9        | 512.329  |\n",
            "+-------+---------------+------------+----------+------------+------------+----------+\n"
          ]
        }
      ],
      "source": [
        "# Checking the statistical information of the numerical values in our datasets\n",
        "print(tabulate(train.describe(), headers='keys', tablefmt='psql'))\n",
        "print(tabulate(test.describe(), headers='keys', tablefmt='psql'))"
      ]
    },
    {
      "cell_type": "markdown",
      "metadata": {
        "id": "vLatDL4mKXVg"
      },
      "source": [
        "##4. External Data Source Validation"
      ]
    },
    {
      "cell_type": "markdown",
      "metadata": {
        "id": "5FGNIeuJNL44"
      },
      "source": [
        "The dataset has been obtained from Kaggle. I have cross-checked it from another [source](https://osf.io/aupb4/), and it is similar. Hence, it seems to be valid and credible. \n"
      ]
    },
    {
      "cell_type": "markdown",
      "metadata": {
        "id": "hQG-kypFNL3d"
      },
      "source": [
        "##5. Tidying the Datasets"
      ]
    },
    {
      "cell_type": "code",
      "execution_count": 13,
      "metadata": {
        "colab": {
          "base_uri": "https://localhost:8080/"
        },
        "id": "uhkZIbwwJMFc",
        "outputId": "5a751ba4-df45-4111-eb16-e80229af7f54"
      },
      "outputs": [
        {
          "name": "stdout",
          "output_type": "stream",
          "text": [
            "       Age  Cabin  Embarked   Fare   Name  Parch  PassengerId  Pclass    Sex  \\\n",
            "0    False  False     False  False  False  False        False   False  False   \n",
            "1    False  False     False   True  False  False        False   False  False   \n",
            "2    False  False     False  False  False  False        False   False  False   \n",
            "3    False  False     False  False  False  False        False   False  False   \n",
            "4    False  False     False  False  False  False        False   False  False   \n",
            "..     ...    ...       ...    ...    ...    ...          ...     ...    ...   \n",
            "886  False  False     False  False  False  False        False   False  False   \n",
            "887  False  False     False  False  False  False        False   False  False   \n",
            "888  False  False     False  False  False   True        False   False  False   \n",
            "889  False  False     False  False  False  False        False   False  False   \n",
            "890  False  False     False  False  False  False        False   False  False   \n",
            "\n",
            "     SibSp  Survived  Ticket  \n",
            "0    False     False   False  \n",
            "1    False     False   False  \n",
            "2    False     False   False  \n",
            "3    False     False   False  \n",
            "4    False     False   False  \n",
            "..     ...       ...     ...  \n",
            "886  False     False   False  \n",
            "887  False     False   False  \n",
            "888  False     False   False  \n",
            "889  False     False   False  \n",
            "890  False     False   False  \n",
            "\n",
            "[891 rows x 12 columns]\n",
            "-------------------------------------------------------------------------------\n",
            "PassengerId    445.0000\n",
            "Survived         1.0000\n",
            "Pclass           1.0000\n",
            "Age             17.8750\n",
            "SibSp            1.0000\n",
            "Parch            0.0000\n",
            "Fare            23.0896\n",
            "dtype: float64\n"
          ]
        }
      ],
      "source": [
        "# Checking for Outliers using IQR method\n",
        "# Defining a function to check for outliers\n",
        "\n",
        "def outliers(data):\n",
        "  # Calculating the first quantile\n",
        "  Q1=data.quantile(0.25) \n",
        "  # Calculating the third quantile\n",
        "  Q3 = data.quantile(0.75)\n",
        "  # Calculating the Quartile Range\n",
        "  IQR = Q3 - Q1 \n",
        "  print((data < (Q1 - 1.5 * IQR)) | (data > (Q3 + 1.5 * IQR)))\n",
        "  print('-------------------------------------------------------------------------------')\n",
        "  #Displaying the number of outliers in the fields where the exist\n",
        "  print(IQR)\n",
        "outliers(train)"
      ]
    },
    {
      "cell_type": "markdown",
      "metadata": {
        "id": "HNHSeqp1GkCL"
      },
      "source": [
        "We will not remove the outliers in this dataset becuase they are valid entries with records that will help in building an accurate model. "
      ]
    },
    {
      "cell_type": "markdown",
      "metadata": {
        "id": "nmdstL6aQwRB"
      },
      "source": [
        "####Checking for Anomalies"
      ]
    },
    {
      "cell_type": "code",
      "execution_count": 14,
      "metadata": {
        "colab": {
          "base_uri": "https://localhost:8080/"
        },
        "id": "7wdwVMhHWJm_",
        "outputId": "3b602934-d4da-4bbf-f1cd-68ba07eabba0"
      },
      "outputs": [
        {
          "name": "stdout",
          "output_type": "stream",
          "text": [
            "0\n",
            "0\n"
          ]
        }
      ],
      "source": [
        "# Checking for Anomalies\n",
        "\n",
        "# Defining a function to check for any duplicates in the datasets\n",
        "def duplicates(data):\n",
        "  print(data.duplicated().sum())\n",
        "duplicates(train)\n",
        "duplicates(test)"
      ]
    },
    {
      "cell_type": "markdown",
      "metadata": {
        "id": "kfYLDV96Q0D0"
      },
      "source": [
        "####Checking for Missing Values"
      ]
    },
    {
      "cell_type": "code",
      "execution_count": 15,
      "metadata": {
        "colab": {
          "base_uri": "https://localhost:8080/"
        },
        "id": "rr5hHiIgZ8_B",
        "outputId": "ff0e1a60-bbad-4a0b-a4a4-94602605e490"
      },
      "outputs": [
        {
          "name": "stdout",
          "output_type": "stream",
          "text": [
            "PassengerId      0\n",
            "Survived         0\n",
            "Pclass           0\n",
            "Name             0\n",
            "Sex              0\n",
            "Age            177\n",
            "SibSp            0\n",
            "Parch            0\n",
            "Ticket           0\n",
            "Fare             0\n",
            "Cabin          687\n",
            "Embarked         2\n",
            "dtype: int64\n",
            "------------------------------------------\n",
            "PassengerId      0\n",
            "Pclass           0\n",
            "Name             0\n",
            "Sex              0\n",
            "Age             86\n",
            "SibSp            0\n",
            "Parch            0\n",
            "Ticket           0\n",
            "Fare             1\n",
            "Cabin          327\n",
            "Embarked         0\n",
            "dtype: int64\n"
          ]
        }
      ],
      "source": [
        "# Find the total Missing Data in each column\n",
        "def missingdata(data):\n",
        "  print(data.isnull().sum())\n",
        "missingdata(train)\n",
        "print('------------------------------------------')\n",
        "missingdata(test)"
      ]
    },
    {
      "cell_type": "markdown",
      "metadata": {
        "id": "lHdZh8KDa_-9"
      },
      "source": [
        "In our train dataset, we have 177 missing values in the age column, 687 in the cabin column and 2 in the membarked column.\n",
        "In our test dataset, we have 86 missing values in the age column, and 327 in the cabin column."
      ]
    },
    {
      "cell_type": "markdown",
      "metadata": {
        "id": "afcomIb0Q435"
      },
      "source": [
        "####Dealing with Missing values"
      ]
    },
    {
      "cell_type": "markdown",
      "metadata": {
        "id": "26wIpt4ZRvZ2"
      },
      "source": [
        "######Age"
      ]
    },
    {
      "cell_type": "code",
      "execution_count": 16,
      "metadata": {
        "id": "jAe5vrMfPSUn"
      },
      "outputs": [],
      "source": [
        "# For the Age column, we will be filling the missing values with the mean of the values in the Age column.\n",
        "# We will do this for both the train and test set\n",
        "train['Age']=train['Age'].fillna(train['Age'].mean())\n",
        "test['Age']=test['Age'].fillna(test['Age'].mean())"
      ]
    },
    {
      "cell_type": "markdown",
      "metadata": {
        "id": "mhIsCB07Sdlg"
      },
      "source": [
        "######Cabin"
      ]
    },
    {
      "cell_type": "code",
      "execution_count": 17,
      "metadata": {
        "id": "hj1Wiep4SdRp"
      },
      "outputs": [],
      "source": [
        "# We will drop the Cabin column since it has many missing values (more than 50% of the total data).\n",
        "# It is also not so crucial in our prediction\n",
        "train=train.drop('Cabin', axis=1)\n",
        "test=test.drop('Cabin', axis=1)"
      ]
    },
    {
      "cell_type": "markdown",
      "metadata": {
        "id": "bn2Cb_38Sfod"
      },
      "source": [
        "######Embarked"
      ]
    },
    {
      "cell_type": "code",
      "execution_count": 18,
      "metadata": {
        "colab": {
          "base_uri": "https://localhost:8080/"
        },
        "id": "GFwEeCLdSjR3",
        "outputId": "8ecb81e7-5d0a-4a64-d93a-c2363b7c58d0"
      },
      "outputs": [
        {
          "name": "stdout",
          "output_type": "stream",
          "text": [
            "S    644\n",
            "C    168\n",
            "Q     77\n",
            "Name: Embarked, dtype: int64\n"
          ]
        }
      ],
      "source": [
        "# Let's compute the total number of each unique value in the Embarked column.\n",
        "item_counts = train[\"Embarked\"].value_counts()\n",
        "print(item_counts)\n",
        "# We will then fill in the 2 missing values in our train test with \"S\", since it is the one with the highest number\n",
        "train['Embarked']=train['Embarked'].fillna('S')"
      ]
    },
    {
      "cell_type": "code",
      "execution_count": 19,
      "metadata": {
        "colab": {
          "base_uri": "https://localhost:8080/"
        },
        "id": "EnPqwm_LZQDc",
        "outputId": "7b972c14-9c82-4c12-c42f-fd411b4053bf"
      },
      "outputs": [
        {
          "name": "stdout",
          "output_type": "stream",
          "text": [
            "PassengerId    0\n",
            "Survived       0\n",
            "Pclass         0\n",
            "Name           0\n",
            "Sex            0\n",
            "Age            0\n",
            "SibSp          0\n",
            "Parch          0\n",
            "Ticket         0\n",
            "Fare           0\n",
            "Embarked       0\n",
            "dtype: int64\n",
            "PassengerId    0\n",
            "Pclass         0\n",
            "Name           0\n",
            "Sex            0\n",
            "Age            0\n",
            "SibSp          0\n",
            "Parch          0\n",
            "Ticket         0\n",
            "Fare           1\n",
            "Embarked       0\n",
            "dtype: int64\n"
          ]
        }
      ],
      "source": [
        "# Let's cross-check again for missing values in both our datasets after dealing with the missing values\n",
        "missingdata(train)\n",
        "missingdata(test)"
      ]
    },
    {
      "cell_type": "markdown",
      "metadata": {
        "id": "4uT3Z6escBYO"
      },
      "source": [
        "For the Ticket column in the test dataset with 1 missing value we will deal with it later."
      ]
    },
    {
      "cell_type": "code",
      "execution_count": 20,
      "metadata": {
        "colab": {
          "base_uri": "https://localhost:8080/"
        },
        "id": "Vo-QqvO4a_qd",
        "outputId": "c2eaa097-f2c5-477e-ddd6-3b22be7b80c7"
      },
      "outputs": [
        {
          "name": "stdout",
          "output_type": "stream",
          "text": [
            "<class 'pandas.core.frame.DataFrame'>\n",
            "RangeIndex: 891 entries, 0 to 890\n",
            "Data columns (total 11 columns):\n",
            " #   Column       Non-Null Count  Dtype  \n",
            "---  ------       --------------  -----  \n",
            " 0   passengerid  891 non-null    int64  \n",
            " 1   survived     891 non-null    int64  \n",
            " 2   pclass       891 non-null    int64  \n",
            " 3   name         891 non-null    object \n",
            " 4   sex          891 non-null    object \n",
            " 5   age          891 non-null    float64\n",
            " 6   sibsp        891 non-null    int64  \n",
            " 7   parch        891 non-null    int64  \n",
            " 8   ticket       891 non-null    object \n",
            " 9   fare         891 non-null    float64\n",
            " 10  embarked     891 non-null    object \n",
            "dtypes: float64(2), int64(5), object(4)\n",
            "memory usage: 76.7+ KB\n",
            "None\n",
            "------------------------------------------------\n",
            "<class 'pandas.core.frame.DataFrame'>\n",
            "RangeIndex: 418 entries, 0 to 417\n",
            "Data columns (total 10 columns):\n",
            " #   Column       Non-Null Count  Dtype  \n",
            "---  ------       --------------  -----  \n",
            " 0   passengerid  418 non-null    int64  \n",
            " 1   pclass       418 non-null    int64  \n",
            " 2   name         418 non-null    object \n",
            " 3   sex          418 non-null    object \n",
            " 4   age          418 non-null    float64\n",
            " 5   sibsp        418 non-null    int64  \n",
            " 6   parch        418 non-null    int64  \n",
            " 7   ticket       418 non-null    object \n",
            " 8   fare         417 non-null    float64\n",
            " 9   embarked     418 non-null    object \n",
            "dtypes: float64(2), int64(4), object(4)\n",
            "memory usage: 32.8+ KB\n",
            "None\n"
          ]
        }
      ],
      "source": [
        "#To ensure uniformity,we will change the column names to lower case, stripping of the whitespaces,removing periods, \n",
        "#this ensures good readerbility plus every possible naming issue is covered.\n",
        "train.columns = train.columns.str.lower().str.strip().str.replace(' ', '_').str.replace('.', '')\n",
        "print(train.info())\n",
        "print(\"------------------------------------------------\")\n",
        "test.columns = test.columns.str.lower().str.strip().str.replace(' ', '_').str.replace('.', '')\n",
        "print(test.info())"
      ]
    },
    {
      "cell_type": "code",
      "execution_count": 21,
      "metadata": {
        "id": "_qBhpRHkhZ1e"
      },
      "outputs": [],
      "source": [
        "# Exporting our clean train and test datasets\n",
        "#\n",
        "train.to_csv(\"clean_train.csv\", index=False)\n",
        "test.to_csv(\"clean_test.csv\", index=False)"
      ]
    },
    {
      "cell_type": "code",
      "execution_count": 22,
      "metadata": {
        "colab": {
          "base_uri": "https://localhost:8080/"
        },
        "id": "T0vYLUlghn2s",
        "outputId": "4b1073c2-9124-4c39-88ad-2e4026bdd157"
      },
      "outputs": [
        {
          "name": "stdout",
          "output_type": "stream",
          "text": [
            "+----+---------------+------------+----------+-----------------------------------------------------+--------+-------+---------+---------+------------------+---------+------------+\n",
            "|    |   passengerid |   survived |   pclass | name                                                | sex    |   age |   sibsp |   parch | ticket           |    fare | embarked   |\n",
            "|----+---------------+------------+----------+-----------------------------------------------------+--------+-------+---------+---------+------------------+---------+------------|\n",
            "|  0 |             1 |          0 |        3 | Braund, Mr. Owen Harris                             | male   |    22 |       1 |       0 | A/5 21171        |  7.25   | S          |\n",
            "|  1 |             2 |          1 |        1 | Cumings, Mrs. John Bradley (Florence Briggs Thayer) | female |    38 |       1 |       0 | PC 17599         | 71.2833 | C          |\n",
            "|  2 |             3 |          1 |        3 | Heikkinen, Miss. Laina                              | female |    26 |       0 |       0 | STON/O2. 3101282 |  7.925  | S          |\n",
            "|  3 |             4 |          1 |        1 | Futrelle, Mrs. Jacques Heath (Lily May Peel)        | female |    35 |       1 |       0 | 113803           | 53.1    | S          |\n",
            "|  4 |             5 |          0 |        3 | Allen, Mr. William Henry                            | male   |    35 |       0 |       0 | 373450           |  8.05   | S          |\n",
            "+----+---------------+------------+----------+-----------------------------------------------------+--------+-------+---------+---------+------------------+---------+------------+\n",
            "+----+---------------+----------+----------------------------------------------+--------+-------+---------+---------+----------+---------+------------+\n",
            "|    |   passengerid |   pclass | name                                         | sex    |   age |   sibsp |   parch |   ticket |    fare | embarked   |\n",
            "|----+---------------+----------+----------------------------------------------+--------+-------+---------+---------+----------+---------+------------|\n",
            "|  0 |           892 |        3 | Kelly, Mr. James                             | male   |  34.5 |       0 |       0 |   330911 |  7.8292 | Q          |\n",
            "|  1 |           893 |        3 | Wilkes, Mrs. James (Ellen Needs)             | female |  47   |       1 |       0 |   363272 |  7      | S          |\n",
            "|  2 |           894 |        2 | Myles, Mr. Thomas Francis                    | male   |  62   |       0 |       0 |   240276 |  9.6875 | Q          |\n",
            "|  3 |           895 |        3 | Wirz, Mr. Albert                             | male   |  27   |       0 |       0 |   315154 |  8.6625 | S          |\n",
            "|  4 |           896 |        3 | Hirvonen, Mrs. Alexander (Helga E Lindqvist) | female |  22   |       1 |       1 |  3101298 | 12.2875 | S          |\n",
            "+----+---------------+----------+----------------------------------------------+--------+-------+---------+---------+----------+---------+------------+\n"
          ]
        }
      ],
      "source": [
        "# Lets read our datasets from our CSV files and create dataframes that we will use\n",
        "#\n",
        "train_df=pd.read_csv('clean_train.csv')\n",
        "test_df=pd.read_csv('clean_test.csv')\n",
        "\n",
        "# Previewing the first five records using our tabulatetable function created earlier\n",
        "head(train_df)\n",
        "head(test_df)"
      ]
    },
    {
      "cell_type": "markdown",
      "metadata": {
        "id": "0haGYkcYj_9e"
      },
      "source": [
        "##6. Exploratory Data Analysis for our Train Dataset"
      ]
    },
    {
      "cell_type": "markdown",
      "metadata": {
        "id": "jp4XB8iqkUze"
      },
      "source": [
        "###1. Univariate Analysis"
      ]
    },
    {
      "cell_type": "code",
      "execution_count": 23,
      "metadata": {
        "colab": {
          "base_uri": "https://localhost:8080/"
        },
        "id": "0_re4fb_kYwx",
        "outputId": "d370b500-7fa3-48a3-a6ef-af67907a4864"
      },
      "outputs": [
        {
          "name": "stdout",
          "output_type": "stream",
          "text": [
            "+-------+---------------+------------+------------+----------+------------+------------+----------+\n",
            "|       |   passengerid |   survived |     pclass |      age |      sibsp |      parch |     fare |\n",
            "|-------+---------------+------------+------------+----------+------------+------------+----------|\n",
            "| count |       891     | 891        | 891        | 891      | 891        | 891        | 891      |\n",
            "| mean  |       446     |   0.383838 |   2.30864  |  29.6991 |   0.523008 |   0.381594 |  32.2042 |\n",
            "| std   |       257.354 |   0.486592 |   0.836071 |  13.002  |   1.10274  |   0.806057 |  49.6934 |\n",
            "| min   |         1     |   0        |   1        |   0.42   |   0        |   0        |   0      |\n",
            "| 25%   |       223.5   |   0        |   2        |  22      |   0        |   0        |   7.9104 |\n",
            "| 50%   |       446     |   0        |   3        |  29.6991 |   0        |   0        |  14.4542 |\n",
            "| 75%   |       668.5   |   1        |   3        |  35      |   1        |   0        |  31      |\n",
            "| max   |       891     |   1        |   3        |  80      |   8        |   6        | 512.329  |\n",
            "+-------+---------------+------------+------------+----------+------------+------------+----------+\n"
          ]
        }
      ],
      "source": [
        "# Getting a description of the statistics of numerical values\n",
        "print(tabulate(train_df.describe(), headers='keys', tablefmt='psql'))"
      ]
    },
    {
      "cell_type": "code",
      "execution_count": 24,
      "metadata": {
        "colab": {
          "base_uri": "https://localhost:8080/"
        },
        "id": "dfgK7d26eszG",
        "outputId": "c7f19fd1-b1c0-4f96-9a33-b0bc41eea0b9"
      },
      "outputs": [
        {
          "name": "stdout",
          "output_type": "stream",
          "text": [
            "+--------+-------------------------+-------+----------+------------+\n",
            "|        | name                    | sex   |   ticket | embarked   |\n",
            "|--------+-------------------------+-------+----------+------------|\n",
            "| count  | 891                     | 891   |      891 | 891        |\n",
            "| unique | 891                     | 2     |      681 | 3          |\n",
            "| top    | Braund, Mr. Owen Harris | male  |   347082 | S          |\n",
            "| freq   | 1                       | 577   |        7 | 646        |\n",
            "+--------+-------------------------+-------+----------+------------+\n"
          ]
        }
      ],
      "source": [
        "# Getting a description of the statistics of categorical values\n",
        "print(tabulate(train_df.describe(include=['O']), headers='keys', tablefmt='psql'))"
      ]
    },
    {
      "cell_type": "code",
      "execution_count": 25,
      "metadata": {
        "colab": {
          "base_uri": "https://localhost:8080/",
          "height": 1000
        },
        "id": "lz5pCT5mwzN1",
        "outputId": "bb2f02f9-5c35-41b9-c309-fefd5d53d403"
      },
      "outputs": [
        {
          "data": {
            "image/png": "[encoded data removed]",
            "text/plain": [
              "<Figure size 1440x1440 with 6 Axes>"
            ]
          },
          "metadata": {
            "needs_background": "light"
          },
          "output_type": "display_data"
        }
      ],
      "source": [
        "# Plotting Distribution Plots and Count Plots for the various attributes in our train dataset\n",
        "fig,axes=plt.subplots(3,2, figsize=(20,20))\n",
        "fig.suptitle('Distribution and Count Plots for Various Attributes in our Dataset', fontsize = 20, color='blue')\n",
        "sns.countplot('sex', data=train_df, hue='sex', ax=axes[0,0])\n",
        "sns.countplot('survived', data=train_df, hue='survived', ax=axes[0,1])\n",
        "sns.countplot('embarked', data=train_df, hue='embarked', ax=axes[1,0])\n",
        "sns.distplot(train_df['age'].dropna(), kde=True, ax=axes[1,1])\n",
        "sns.countplot('sibsp', data=train_df, hue='sibsp', ax=axes[2,0]);\n",
        "sns.countplot('parch', data=train_df, hue='parch', ax=axes[2,1]);"
      ]
    },
    {
      "cell_type": "markdown",
      "metadata": {
        "id": "xTong9Kn1GGn"
      },
      "source": [
        "From the distribution and countplots, we can be able to gather some important information such as:\n",
        "- Most people of the people who boarded the ship were male.\n",
        "- Most people perished in the incident.\n",
        "- Most people who boarded the ship embarked from S.\n",
        "- Most people who boared the ship were in the age bracket of 20-40 years.\n",
        "- Most people in the ship did not have siblings/spouses aboard.\n",
        "- Most people in the ship did not have parents/children aboard."
      ]
    },
    {
      "cell_type": "markdown",
      "metadata": {
        "id": "4MjMZS6N2pEA"
      },
      "source": [
        "###2. Bivariate Analysis"
      ]
    },
    {
      "cell_type": "code",
      "execution_count": 26,
      "metadata": {
        "colab": {
          "base_uri": "https://localhost:8080/",
          "height": 1000
        },
        "id": "Hr3kT4N5jcGO",
        "outputId": "04aa9815-d660-473a-b2c2-a1a92b3fbb0c"
      },
      "outputs": [
        {
          "data": {
            "image/png": "[encoded data removed]",
            "text/plain": [
              "<Figure size 1260x1260 with 56 Axes>"
            ]
          },
          "metadata": {
            "needs_background": "light"
          },
          "output_type": "display_data"
        }
      ],
      "source": [
        "# Ploting the bivariate summaries and recording our observations\n",
        "sns.pairplot(train_df)\n",
        "plt.show()"
      ]
    },
    {
      "cell_type": "code",
      "execution_count": 27,
      "metadata": {
        "colab": {
          "base_uri": "https://localhost:8080/",
          "height": 279
        },
        "id": "gq5GTu3EQAeE",
        "outputId": "2ea69c17-b36b-4d6a-b841-6f7eeae3c713"
      },
      "outputs": [
        {
          "data": {
            "image/png": "[encoded data removed]",
            "text/plain": [
              "<Figure size 432x288 with 1 Axes>"
            ]
          },
          "metadata": {
            "needs_background": "light"
          },
          "output_type": "display_data"
        }
      ],
      "source": [
        "# Barplot showing sex against survived\n",
        "sns.barplot(x='sex', y='survived',data=train_df);"
      ]
    },
    {
      "cell_type": "markdown",
      "metadata": {
        "id": "5MVAqukWQSMe"
      },
      "source": [
        "From the bar plot, we see that more female survived in the Titanic incident compared to male. "
      ]
    },
    {
      "cell_type": "code",
      "execution_count": 28,
      "metadata": {
        "colab": {
          "base_uri": "https://localhost:8080/",
          "height": 279
        },
        "id": "r1qit8JKmQyH",
        "outputId": "b5166a65-87be-4dad-efa8-b47edc3f716d"
      },
      "outputs": [
        {
          "data": {
            "image/png": "[encoded data removed]",
            "text/plain": [
              "<Figure size 432x288 with 1 Axes>"
            ]
          },
          "metadata": {
            "needs_background": "light"
          },
          "output_type": "display_data"
        }
      ],
      "source": [
        "# Barplot showing parch against survived\n",
        "sns.barplot(x='parch', y='survived',data=train_df);"
      ]
    },
    {
      "cell_type": "markdown",
      "metadata": {
        "id": "0q0XSRfinztW"
      },
      "source": [
        "According to the bar plot, most of the survivers had 3 Number of Parents/Children Aboard, followed closely by 1, then 2."
      ]
    },
    {
      "cell_type": "code",
      "execution_count": 29,
      "metadata": {
        "colab": {
          "base_uri": "https://localhost:8080/",
          "height": 279
        },
        "id": "EcxLSglZoUiK",
        "outputId": "a5ffc491-a111-4d05-8347-0b3955f6d118"
      },
      "outputs": [
        {
          "data": {
            "image/png": "[encoded data removed]",
            "text/plain": [
              "<Figure size 432x288 with 1 Axes>"
            ]
          },
          "metadata": {
            "needs_background": "light"
          },
          "output_type": "display_data"
        }
      ],
      "source": [
        "# Barplot showing sibsp against survived\n",
        "sns.barplot(x='sibsp', y='survived',data=train_df);"
      ]
    },
    {
      "cell_type": "markdown",
      "metadata": {
        "id": "7MGWVNdooiPO"
      },
      "source": [
        "According to the bar graph, most people who survived had 1 siblingor spouses, followed by 2, and 0."
      ]
    },
    {
      "cell_type": "code",
      "execution_count": 30,
      "metadata": {
        "colab": {
          "base_uri": "https://localhost:8080/",
          "height": 279
        },
        "id": "SRK7mNQXobxt",
        "outputId": "79832f87-a304-418e-ba3d-4533b901ce7e"
      },
      "outputs": [
        {
          "data": {
            "image/png": "[encoded data removed]",
            "text/plain": [
              "<Figure size 432x288 with 1 Axes>"
            ]
          },
          "metadata": {
            "needs_background": "light"
          },
          "output_type": "display_data"
        }
      ],
      "source": [
        "# Barplot showing pclass against survived\n",
        "sns.barplot(x='pclass', y='survived',data=train_df);"
      ]
    },
    {
      "cell_type": "markdown",
      "metadata": {
        "id": "3tO6SgyEpDRp"
      },
      "source": [
        "According to the bar graph, most people who survived were in first class, followed by 2, then 3. This could be because passengers in the first class were given priority for getting life boats."
      ]
    },
    {
      "cell_type": "code",
      "execution_count": 31,
      "metadata": {
        "colab": {
          "base_uri": "https://localhost:8080/",
          "height": 489
        },
        "id": "R48MbXgSoYgj",
        "outputId": "8c03a217-297b-46ae-efdb-836282be5e35"
      },
      "outputs": [
        {
          "data": {
            "image/png": "[encoded data removed]",
            "text/plain": [
              "<Figure size 1080x576 with 2 Axes>"
            ]
          },
          "metadata": {},
          "output_type": "display_data"
        }
      ],
      "source": [
        "# Plotting a heatmap to show the correlation between the different numerical  variables\n",
        "sns.set(rc = {'figure.figsize':(15,8)})\n",
        "sns.heatmap(train_df.corr(),annot=True);"
      ]
    },
    {
      "cell_type": "markdown",
      "metadata": {
        "id": "qzSsRsluT4Tn"
      },
      "source": [
        "In the heatmap, the values closer to zero means there is no linear trend between the two variables. The close to 1 the correlation is the more positively correlated they are; that is as one increases so does the other and the closer to 1 the stronger this relationship is. A correlation closer to -1 is similar, but instead of both increasing one variable will decrease as the other increases (for instance, pclass and fare)."
      ]
    },
    {
      "cell_type": "markdown",
      "metadata": {
        "id": "oEd_-uSjREwu"
      },
      "source": [
        "From the table, we can see that the independent variables are not correlated. There is no value above 1.000"
      ]
    },
    {
      "cell_type": "markdown",
      "metadata": {
        "id": "uT00c90ssC97"
      },
      "source": [
        "##7. Implementing the Solution"
      ]
    },
    {
      "cell_type": "markdown",
      "metadata": {
        "id": "1bNtNjF4sNBV"
      },
      "source": [
        "### KNN Classifier"
      ]
    },
    {
      "cell_type": "markdown",
      "metadata": {
        "id": "r17ssxRGGwF4"
      },
      "source": [
        "#### Splitting 80-20"
      ]
    },
    {
      "cell_type": "code",
      "execution_count": 88,
      "metadata": {
        "id": "2Hfkw8lKG4xW"
      },
      "outputs": [],
      "source": [
        "# Making a copy of our original dataset so that I can work on the copy and keep the original\n",
        "train_df1=train_df.copy()"
      ]
    },
    {
      "cell_type": "code",
      "execution_count": 89,
      "metadata": {
        "colab": {
          "base_uri": "https://localhost:8080/"
        },
        "id": "CeRloKp9s8BV",
        "outputId": "d3c0bc52-91ef-4ed0-d537-254d155cc2fc"
      },
      "outputs": [
        {
          "name": "stdout",
          "output_type": "stream",
          "text": [
            "Index(['passengerid', 'survived', 'pclass', 'name', 'sex', 'age', 'sibsp',\n",
            "       'parch', 'ticket', 'fare', 'embarked'],\n",
            "      dtype='object')\n"
          ]
        }
      ],
      "source": [
        "# Displaying the columns in our training dataset\n",
        "print(train_df1.columns)"
      ]
    },
    {
      "cell_type": "code",
      "execution_count": 90,
      "metadata": {
        "id": "7Ea0PWnE6xN9"
      },
      "outputs": [],
      "source": [
        "# Assigning categorical columns to the variable cols, then converting it to an array\n",
        "cols_traindf1=train_df1.select_dtypes(include=\"object\").columns.tolist()"
      ]
    },
    {
      "cell_type": "code",
      "execution_count": 91,
      "metadata": {
        "id": "A4O6L8zruPYh"
      },
      "outputs": [],
      "source": [
        "# Label Encoding our categorical variable\n",
        "le=LabelEncoder()\n",
        "train_df1[cols_traindf1]=train_df1[cols_traindf1].apply(le.fit_transform)"
      ]
    },
    {
      "cell_type": "code",
      "execution_count": 92,
      "metadata": {
        "id": "8y68TyXH8tis"
      },
      "outputs": [],
      "source": [
        "# Let's drop ther survived column in our X, along with other unnecessary columns in our prediction\n",
        "# Standardising our features and Assigning varibale to our X and y\n",
        "\n",
        "X=train_df1.drop(['survived','passengerid', 'name','fare','ticket'], axis=1)\n",
        "y=train_df1['survived'].values"
      ]
    },
    {
      "cell_type": "code",
      "execution_count": 93,
      "metadata": {
        "id": "7jvi02sHtnNH"
      },
      "outputs": [],
      "source": [
        "# Creating a Train and Test Split\n",
        "#Train using 80% of the data.\n",
        "X_train, X_test, y_train, y_test = train_test_split(X, y, test_size=.2, random_state=0)"
      ]
    },
    {
      "cell_type": "code",
      "execution_count": 94,
      "metadata": {
        "id": "EgM4cGbnIi3h"
      },
      "outputs": [],
      "source": [
        "# Performing scaling on our features so that all of them can be uniformly evaluated.\n",
        "scaler = StandardScaler()\n",
        "scaler.fit(X_train)\n",
        "\n",
        "X_train = scaler.transform(X_train)\n",
        "X_test = scaler.transform(X_test)"
      ]
    },
    {
      "cell_type": "code",
      "execution_count": 95,
      "metadata": {
        "colab": {
          "base_uri": "https://localhost:8080/"
        },
        "id": "rQzH-lIVLy9d",
        "outputId": "9d790a49-d78c-4c3a-df60-95cd3c799e70"
      },
      "outputs": [
        {
          "name": "stdout",
          "output_type": "stream",
          "text": [
            "(712, 6)\n",
            "(712,)\n",
            "(179, 6)\n"
          ]
        }
      ],
      "source": [
        "# Checking the shape of our X_train,y_train and X_test\n",
        "print(X_train.shape)\n",
        "print(y_train.shape)\n",
        "print(X_test.shape)"
      ]
    },
    {
      "cell_type": "code",
      "execution_count": 96,
      "metadata": {
        "colab": {
          "base_uri": "https://localhost:8080/"
        },
        "id": "YQs0HHCY9BQk",
        "outputId": "3803c6e8-072a-4168-ee18-20f5a6e9ad33"
      },
      "outputs": [
        {
          "data": {
            "text/plain": [
              "KNeighborsClassifier()"
            ]
          },
          "execution_count": 96,
          "metadata": {},
          "output_type": "execute_result"
        }
      ],
      "source": [
        "# Instantiating the model\n",
        "classifier = KNeighborsClassifier(n_neighbors=5)\n",
        "classifier.fit(X_train, y_train)"
      ]
    },
    {
      "cell_type": "code",
      "execution_count": 97,
      "metadata": {
        "id": "jrVsYy3F9JAR"
      },
      "outputs": [],
      "source": [
        "# Predict based on the model we've trained\n",
        "y_pred = classifier.predict(X_test)"
      ]
    },
    {
      "cell_type": "code",
      "execution_count": 98,
      "metadata": {
        "colab": {
          "base_uri": "https://localhost:8080/"
        },
        "id": "vHJnUQ_G9NDs",
        "outputId": "2a0206fe-0458-4b63-81c7-6d38cf67638b"
      },
      "outputs": [
        {
          "name": "stdout",
          "output_type": "stream",
          "text": [
            "The accuracy score is: 0.7877094972067039 and the f1 score is 0.703125\n",
            "              precision    recall  f1-score   support\n",
            "\n",
            "           0       0.80      0.87      0.83       110\n",
            "           1       0.76      0.65      0.70        69\n",
            "\n",
            "    accuracy                           0.79       179\n",
            "   macro avg       0.78      0.76      0.77       179\n",
            "weighted avg       0.79      0.79      0.78       179\n",
            "\n"
          ]
        },
        {
          "data": {
            "text/plain": [
              "array([[96, 14],\n",
              "       [24, 45]])"
            ]
          },
          "execution_count": 98,
          "metadata": {},
          "output_type": "execute_result"
        }
      ],
      "source": [
        " # Measuring the accuracy of the model\n",
        "print(f'The accuracy score is: {accuracy_score(y_test, y_pred)} and the f1 score is {f1_score(y_test, y_pred)}')\n",
        "print(f'{classification_report(y_test, y_pred)}')\n",
        "confusion_matrix(y_test, y_pred)"
      ]
    },
    {
      "cell_type": "markdown",
      "metadata": {
        "id": "Z7ZdjRPa_toU"
      },
      "source": [
        "- Our accuracy score is 78.77% and the f1 score is 0.70. This means that our model is not so bad.\n",
        "- According to the confusion matrix, our model was able to correctly predict 96 passengers who survived and 45 passengers who did not survive(Total - 141). It however gave wrong predictions of 14 passengers who survived and 24 passengers who did not survive (Total - 38).\n",
        "- Overall, the correct predictions are more than the incorrect prediction, hence our model is decent enough. \n"
      ]
    },
    {
      "cell_type": "markdown",
      "metadata": {
        "id": "OM7SFNZIDDkx"
      },
      "source": [
        "#### Performing the Prediction on our Test Set"
      ]
    },
    {
      "cell_type": "code",
      "execution_count": 99,
      "metadata": {
        "id": "dOzYrpuoDTqm"
      },
      "outputs": [],
      "source": [
        "# Making a copy of our original dataset so that I can work on the copy and keep the original\n",
        "test_df1=test_df.copy()"
      ]
    },
    {
      "cell_type": "code",
      "execution_count": 100,
      "metadata": {
        "id": "B0wo_1ANDfhy"
      },
      "outputs": [],
      "source": [
        "# Assigning categorical columns to the variable cols, then converting it to an array\n",
        "cols_testdf1=test_df1.select_dtypes(include=\"object\").columns.tolist()"
      ]
    },
    {
      "cell_type": "code",
      "execution_count": 101,
      "metadata": {
        "id": "5Thkb-1tDtKs"
      },
      "outputs": [],
      "source": [
        "# Label Encoding our categorical variable\n",
        "le=LabelEncoder()\n",
        "test_df1[cols_testdf1]=test_df1[cols_testdf1].apply(le.fit_transform)"
      ]
    },
    {
      "cell_type": "code",
      "execution_count": 106,
      "metadata": {
        "id": "qrEmOnvQD28J"
      },
      "outputs": [],
      "source": [
        "# Let's drop ther survived column in our X, along with other unnecessary columns in our prediction\n",
        "# Standardising our features and Assigning varibale to our X and y\n",
        "X_test1=StandardScaler().fit_transform(test_df1.drop(['passengerid', 'name','fare','ticket'], axis=1))"
      ]
    },
    {
      "cell_type": "code",
      "execution_count": 107,
      "metadata": {
        "colab": {
          "base_uri": "https://localhost:8080/"
        },
        "id": "e_9PUIdYDQVK",
        "outputId": "13bd507b-607c-4f54-8d0e-ad68e11a1e18"
      },
      "outputs": [
        {
          "data": {
            "text/plain": [
              "array([0, 0, 0, 0, 0, 0, 1, 0, 1, 0, 0, 0, 1, 0, 1, 1, 0, 0, 0, 1, 1, 1,\n",
              "       1, 0, 1, 0, 1, 0, 0, 0, 0, 0, 0, 0, 0, 0, 0, 1, 0, 0, 0, 0, 0, 1,\n",
              "       1, 0, 1, 0, 1, 1, 0, 0, 1, 1, 0, 0, 0, 0, 0, 1, 0, 0, 0, 1, 0, 1,\n",
              "       1, 0, 0, 1, 1, 0, 0, 0, 1, 0, 0, 1, 0, 1, 1, 0, 0, 0, 0, 0, 1, 1,\n",
              "       1, 1, 0, 0, 1, 0, 0, 0, 1, 0, 1, 0, 1, 0, 0, 0, 0, 1, 0, 0, 0, 0,\n",
              "       0, 1, 1, 1, 1, 0, 0, 1, 1, 1, 1, 0, 1, 1, 0, 1, 0, 1, 0, 0, 0, 0,\n",
              "       0, 0, 0, 0, 1, 0, 1, 0, 0, 1, 0, 0, 0, 0, 0, 0, 0, 0, 1, 0, 0, 1,\n",
              "       0, 0, 1, 1, 0, 1, 1, 1, 1, 0, 0, 0, 1, 0, 1, 1, 0, 1, 0, 0, 0, 1,\n",
              "       1, 1, 1, 1, 0, 0, 1, 0, 1, 0, 1, 0, 0, 0, 0, 0, 1, 0, 1, 0, 0, 1,\n",
              "       0, 0, 1, 1, 1, 1, 0, 0, 1, 0, 1, 0, 0, 0, 0, 1, 0, 0, 1, 0, 1, 0,\n",
              "       1, 0, 1, 0, 1, 0, 0, 1, 0, 0, 0, 1, 0, 0, 1, 0, 0, 0, 1, 1, 1, 1,\n",
              "       1, 0, 0, 0, 1, 0, 1, 1, 1, 0, 0, 0, 0, 0, 0, 1, 1, 0, 0, 0, 1, 1,\n",
              "       0, 0, 0, 0, 0, 0, 0, 0, 1, 1, 0, 1, 0, 0, 0, 0, 1, 1, 1, 1, 1, 0,\n",
              "       0, 0, 0, 0, 0, 1, 0, 0, 0, 0, 1, 0, 0, 0, 0, 0, 0, 0, 1, 1, 0, 1,\n",
              "       0, 0, 0, 0, 0, 1, 1, 1, 1, 0, 0, 0, 0, 0, 0, 0, 1, 0, 1, 0, 0, 0,\n",
              "       1, 1, 0, 0, 0, 0, 0, 0, 0, 0, 0, 0, 0, 1, 0, 1, 0, 1, 0, 1, 1, 0,\n",
              "       0, 0, 1, 1, 1, 0, 0, 0, 0, 1, 1, 0, 1, 0, 0, 1, 1, 0, 0, 1, 0, 0,\n",
              "       1, 1, 0, 0, 0, 0, 0, 0, 0, 0, 0, 1, 0, 0, 0, 0, 1, 1, 1, 0, 0, 1,\n",
              "       0, 1, 0, 0, 1, 0, 1, 1, 1, 0, 0, 0, 1, 1, 1, 1, 1, 0, 1, 0, 0, 1])"
            ]
          },
          "execution_count": 107,
          "metadata": {},
          "output_type": "execute_result"
        }
      ],
      "source": [
        "# Making a prediction on our Test Dataset\n",
        "y_pred = classifier.predict(X_test1)\n",
        "y_pred"
      ]
    },
    {
      "cell_type": "markdown",
      "metadata": {
        "id": "lYjGLtuJ_8r5"
      },
      "source": [
        "####Splitting 70-30"
      ]
    },
    {
      "cell_type": "code",
      "execution_count": 74,
      "metadata": {
        "id": "_Y316l9e_3r2"
      },
      "outputs": [],
      "source": [
        "# Making a copy of our original dataset so that I can work on the copy and keep the original\n",
        "train_df2=train_df.copy()"
      ]
    },
    {
      "cell_type": "code",
      "execution_count": 75,
      "metadata": {
        "colab": {
          "base_uri": "https://localhost:8080/"
        },
        "id": "C5Fa5_-HHcu2",
        "outputId": "4c9f6542-4713-467a-b39b-ed5d646d58ef"
      },
      "outputs": [
        {
          "name": "stdout",
          "output_type": "stream",
          "text": [
            "Index(['passengerid', 'survived', 'pclass', 'name', 'sex', 'age', 'sibsp',\n",
            "       'parch', 'ticket', 'fare', 'embarked'],\n",
            "      dtype='object')\n"
          ]
        }
      ],
      "source": [
        "# Displaying the columns in our training dataset\n",
        "print(train_df2.columns)"
      ]
    },
    {
      "cell_type": "code",
      "execution_count": 76,
      "metadata": {
        "id": "LuSHbk0mHcu4"
      },
      "outputs": [],
      "source": [
        "# Assigning categorical columns to the variable cols, then converting it to an array\n",
        "cols_traindf2=train_df2.select_dtypes(include=\"object\").columns.tolist()"
      ]
    },
    {
      "cell_type": "code",
      "execution_count": 77,
      "metadata": {
        "id": "hypa8Ne4Hcu5"
      },
      "outputs": [],
      "source": [
        "# Label Encoding our categorical variable\n",
        "le=LabelEncoder()\n",
        "train_df2[cols_traindf2]=train_df2[cols_traindf2].apply(le.fit_transform)"
      ]
    },
    {
      "cell_type": "code",
      "execution_count": 81,
      "metadata": {
        "id": "-6t_lPvAHcu5"
      },
      "outputs": [],
      "source": [
        "# Let's drop ther survived column in our X, along with other unnecessary columns in our prediction\n",
        "# Assigning varibale to our X and y\n",
        "\n",
        "X=train_df2.drop(['survived','passengerid', 'name','fare','ticket'], axis=1)\n",
        "y=train_df2['survived'].values"
      ]
    },
    {
      "cell_type": "code",
      "execution_count": 125,
      "metadata": {
        "id": "JuOUpOTXHcu6"
      },
      "outputs": [],
      "source": [
        "# Creating a Train and Test Split\n",
        "#Train using 70% of the data.\n",
        "X_train, X_test, y_train, y_test = train_test_split(X, y, test_size=.3, random_state=0)"
      ]
    },
    {
      "cell_type": "code",
      "execution_count": 83,
      "metadata": {
        "id": "Qzb_gufwH9HB"
      },
      "outputs": [],
      "source": [
        "# Performing scaling on our features so that all of them can be uniformly evaluated.\n",
        "scaler = StandardScaler()\n",
        "scaler.fit(X_train)\n",
        "\n",
        "X_train = scaler.transform(X_train)\n",
        "X_test = scaler.transform(X_test)"
      ]
    },
    {
      "cell_type": "code",
      "execution_count": 84,
      "metadata": {
        "colab": {
          "base_uri": "https://localhost:8080/"
        },
        "id": "GClTHu-rHcu6",
        "outputId": "71a33e93-c8d1-473f-e11e-0e381ed54a36"
      },
      "outputs": [
        {
          "name": "stdout",
          "output_type": "stream",
          "text": [
            "(623, 6)\n",
            "(623,)\n",
            "(268, 6)\n"
          ]
        }
      ],
      "source": [
        "# Checking the shape of our X_train,y_train and X_test\n",
        "print(X_train.shape)\n",
        "print(y_train.shape)\n",
        "print(X_test.shape)"
      ]
    },
    {
      "cell_type": "code",
      "execution_count": 85,
      "metadata": {
        "colab": {
          "base_uri": "https://localhost:8080/"
        },
        "id": "dPD8rmHoHcu7",
        "outputId": "3e8227ae-1a9a-4428-a547-9c5f0f0cc6b9"
      },
      "outputs": [
        {
          "data": {
            "text/plain": [
              "KNeighborsClassifier()"
            ]
          },
          "execution_count": 85,
          "metadata": {},
          "output_type": "execute_result"
        }
      ],
      "source": [
        "# Instantiating the model\n",
        "classifier = KNeighborsClassifier(n_neighbors=5)\n",
        "classifier.fit(X_train, y_train)"
      ]
    },
    {
      "cell_type": "code",
      "execution_count": 86,
      "metadata": {
        "id": "kZq0e5UeHcu7"
      },
      "outputs": [],
      "source": [
        "# Predict based on the model we've trained\n",
        "y_pred = classifier.predict(X_test)"
      ]
    },
    {
      "cell_type": "code",
      "execution_count": 87,
      "metadata": {
        "colab": {
          "base_uri": "https://localhost:8080/"
        },
        "id": "qqgCIgvoHcu8",
        "outputId": "0109c297-3ebb-4463-9ffe-917241189cc1"
      },
      "outputs": [
        {
          "name": "stdout",
          "output_type": "stream",
          "text": [
            "The accuracy score is: 0.7649253731343284 and the f1 score is 0.6802030456852791\n",
            "              precision    recall  f1-score   support\n",
            "\n",
            "           0       0.81      0.82      0.81       168\n",
            "           1       0.69      0.67      0.68       100\n",
            "\n",
            "    accuracy                           0.76       268\n",
            "   macro avg       0.75      0.75      0.75       268\n",
            "weighted avg       0.76      0.76      0.76       268\n",
            "\n"
          ]
        },
        {
          "data": {
            "text/plain": [
              "array([[138,  30],\n",
              "       [ 33,  67]])"
            ]
          },
          "execution_count": 87,
          "metadata": {},
          "output_type": "execute_result"
        }
      ],
      "source": [
        " # Measuring the accuracy of the model\n",
        "print(f'The accuracy score is: {accuracy_score(y_test, y_pred)} and the f1 score is {f1_score(y_test, y_pred)}')\n",
        "print(f'{classification_report(y_test, y_pred)}')\n",
        "confusion_matrix(y_test, y_pred)"
      ]
    },
    {
      "cell_type": "markdown",
      "metadata": {
        "id": "kLotIWRTJe1Z"
      },
      "source": [
        "- Our accuracy score is 76.49% and the f1 score is 0.68. This means that our model is not so bad, but not it is slightly less accurate than when we did the (80-20) split. \n",
        "- According to the confusion matrix, our model was able to correctly predict 138 passengers who survived and 67 passengers who did not survive(Total - 205). It however gave wrong predictions of 30 passengers who survived and 33 passengers who did not survive (Total - 63).\n",
        "- Overall, the correct predictions are more than the incorrect prediction, hence our model is decent enough, but not better performing compared to our inital model of the (80-20) split."
      ]
    },
    {
      "cell_type": "markdown",
      "metadata": {
        "id": "BDMgPA-oKm2K"
      },
      "source": [
        "#### Performing the Prediction on our Test Set"
      ]
    },
    {
      "cell_type": "code",
      "execution_count": 109,
      "metadata": {
        "id": "iNmKqumnKm2K"
      },
      "outputs": [],
      "source": [
        "# Making a copy of our original dataset so that I can work on the copy and keep the original\n",
        "test_df2=test_df.copy()"
      ]
    },
    {
      "cell_type": "code",
      "execution_count": 110,
      "metadata": {
        "id": "pz-pK66qKm2L"
      },
      "outputs": [],
      "source": [
        "# Assigning categorical columns to the variable cols, then converting it to an array\n",
        "cols_testdf2=test_df2.select_dtypes(include=\"object\").columns.tolist()"
      ]
    },
    {
      "cell_type": "code",
      "execution_count": 111,
      "metadata": {
        "id": "DOBn47VsKm2L"
      },
      "outputs": [],
      "source": [
        "# Label Encoding our categorical variable\n",
        "le=LabelEncoder()\n",
        "test_df2[cols_testdf2]=test_df2[cols_testdf2].apply(le.fit_transform)"
      ]
    },
    {
      "cell_type": "code",
      "execution_count": 112,
      "metadata": {
        "id": "IxI4fX64Km2M"
      },
      "outputs": [],
      "source": [
        "# Let's drop ther survived column in our X, along with other unnecessary columns in our prediction\n",
        "# Standardising our features and Assigning varibale to our X and y\n",
        "X_test2=StandardScaler().fit_transform(test_df2.drop(['passengerid', 'name','fare','ticket'], axis=1))"
      ]
    },
    {
      "cell_type": "code",
      "execution_count": 113,
      "metadata": {
        "colab": {
          "base_uri": "https://localhost:8080/"
        },
        "id": "A8-9BDJWKm2M",
        "outputId": "732e2630-7381-4301-cf2c-e467658d2459"
      },
      "outputs": [
        {
          "data": {
            "text/plain": [
              "array([0, 0, 0, 0, 0, 0, 1, 0, 1, 0, 0, 0, 1, 0, 1, 1, 0, 0, 0, 1, 1, 1,\n",
              "       1, 0, 1, 0, 1, 0, 0, 0, 0, 0, 0, 0, 0, 0, 0, 1, 0, 0, 0, 0, 0, 1,\n",
              "       1, 0, 1, 0, 1, 1, 0, 0, 1, 1, 0, 0, 0, 0, 0, 1, 0, 0, 0, 1, 0, 1,\n",
              "       1, 0, 0, 1, 1, 0, 0, 0, 1, 0, 0, 1, 0, 1, 1, 0, 0, 0, 0, 0, 1, 1,\n",
              "       1, 1, 0, 0, 1, 0, 0, 0, 1, 0, 1, 0, 1, 0, 0, 0, 0, 1, 0, 0, 0, 0,\n",
              "       0, 1, 1, 1, 1, 0, 0, 1, 1, 1, 1, 0, 1, 1, 0, 1, 0, 1, 0, 0, 0, 0,\n",
              "       0, 0, 0, 0, 1, 0, 1, 0, 0, 1, 0, 0, 0, 0, 0, 0, 0, 0, 1, 0, 0, 1,\n",
              "       0, 0, 1, 1, 0, 1, 1, 1, 1, 0, 0, 0, 1, 0, 1, 1, 0, 1, 0, 0, 0, 1,\n",
              "       1, 1, 1, 1, 0, 0, 1, 0, 1, 0, 1, 0, 0, 0, 0, 0, 1, 0, 1, 0, 0, 1,\n",
              "       0, 0, 1, 1, 1, 1, 0, 0, 1, 0, 1, 0, 0, 0, 0, 1, 0, 0, 1, 0, 1, 0,\n",
              "       1, 0, 1, 0, 1, 0, 0, 1, 0, 0, 0, 1, 0, 0, 1, 0, 0, 0, 1, 1, 1, 1,\n",
              "       1, 0, 0, 0, 1, 0, 1, 1, 1, 0, 0, 0, 0, 0, 0, 1, 1, 0, 0, 0, 1, 1,\n",
              "       0, 0, 0, 0, 0, 0, 0, 0, 1, 1, 0, 1, 0, 0, 0, 0, 1, 1, 1, 1, 1, 0,\n",
              "       0, 0, 0, 0, 0, 1, 0, 0, 0, 0, 1, 0, 0, 0, 0, 0, 0, 0, 1, 1, 0, 1,\n",
              "       0, 0, 0, 0, 0, 1, 1, 1, 1, 0, 0, 0, 0, 0, 0, 0, 1, 0, 1, 0, 0, 0,\n",
              "       1, 1, 0, 0, 0, 0, 0, 0, 0, 0, 0, 0, 0, 1, 0, 1, 0, 1, 0, 1, 1, 0,\n",
              "       0, 0, 1, 1, 1, 0, 0, 0, 0, 1, 1, 0, 1, 0, 0, 1, 1, 0, 0, 1, 0, 0,\n",
              "       1, 1, 0, 0, 0, 0, 0, 0, 0, 0, 0, 1, 0, 0, 0, 0, 1, 1, 1, 0, 0, 1,\n",
              "       0, 1, 0, 0, 1, 0, 1, 1, 1, 0, 0, 0, 1, 1, 1, 1, 1, 0, 1, 0, 0, 1])"
            ]
          },
          "execution_count": 113,
          "metadata": {},
          "output_type": "execute_result"
        }
      ],
      "source": [
        "# Making a prediction on our Test Dataset\n",
        "y_pred = classifier.predict(X_test2)\n",
        "y_pred"
      ]
    },
    {
      "cell_type": "markdown",
      "metadata": {
        "id": "T_plrMPaLa0N"
      },
      "source": [
        "####Splitting 60-40"
      ]
    },
    {
      "cell_type": "code",
      "execution_count": 114,
      "metadata": {
        "id": "r8g390joLa0O"
      },
      "outputs": [],
      "source": [
        "# Making a copy of our original dataset so that I can work on the copy and keep the original\n",
        "train_df3=train_df.copy()"
      ]
    },
    {
      "cell_type": "code",
      "execution_count": 115,
      "metadata": {
        "colab": {
          "base_uri": "https://localhost:8080/"
        },
        "id": "q7w52l_iLa0O",
        "outputId": "4d608eb7-57f8-4561-92fb-7595f32bb701"
      },
      "outputs": [
        {
          "name": "stdout",
          "output_type": "stream",
          "text": [
            "Index(['passengerid', 'survived', 'pclass', 'name', 'sex', 'age', 'sibsp',\n",
            "       'parch', 'ticket', 'fare', 'embarked'],\n",
            "      dtype='object')\n"
          ]
        }
      ],
      "source": [
        "# Displaying the columns in our training dataset\n",
        "print(train_df3.columns)"
      ]
    },
    {
      "cell_type": "code",
      "execution_count": 116,
      "metadata": {
        "id": "TpomxIxsLa0P"
      },
      "outputs": [],
      "source": [
        "# Assigning categorical columns to the variable cols, then converting it to an array\n",
        "cols_traindf3=train_df3.select_dtypes(include=\"object\").columns.tolist()"
      ]
    },
    {
      "cell_type": "code",
      "execution_count": 117,
      "metadata": {
        "id": "FMnHxHgOLa0Q"
      },
      "outputs": [],
      "source": [
        "# Label Encoding our categorical variable\n",
        "le=LabelEncoder()\n",
        "train_df3[cols_traindf3]=train_df3[cols_traindf3].apply(le.fit_transform)"
      ]
    },
    {
      "cell_type": "code",
      "execution_count": 118,
      "metadata": {
        "id": "4PF4bKfLLa0Q"
      },
      "outputs": [],
      "source": [
        "# Let's drop ther survived column in our X, along with other unnecessary columns in our prediction\n",
        "# Assigning varibale to our X and y\n",
        "\n",
        "X=train_df3.drop(['survived','passengerid', 'name','fare','ticket'], axis=1)\n",
        "y=train_df3['survived'].values"
      ]
    },
    {
      "cell_type": "code",
      "execution_count": 119,
      "metadata": {
        "id": "8zbGHgK7La0Q"
      },
      "outputs": [],
      "source": [
        "# Creating a Train and Test Split\n",
        "#Train using 60% of the data.\n",
        "X_train, X_test, y_train, y_test = train_test_split(X, y, test_size=.4, random_state=0)"
      ]
    },
    {
      "cell_type": "code",
      "execution_count": 120,
      "metadata": {
        "id": "KvSK48k6La0R"
      },
      "outputs": [],
      "source": [
        "# Performing scaling on our features so that all of them can be uniformly evaluated.\n",
        "scaler = StandardScaler()\n",
        "scaler.fit(X_train)\n",
        "\n",
        "X_train = scaler.transform(X_train)\n",
        "X_test = scaler.transform(X_test)"
      ]
    },
    {
      "cell_type": "code",
      "execution_count": 121,
      "metadata": {
        "colab": {
          "base_uri": "https://localhost:8080/"
        },
        "id": "rnIbLpRTLa0R",
        "outputId": "b3db9621-3702-473b-b380-8217f07aa75f"
      },
      "outputs": [
        {
          "name": "stdout",
          "output_type": "stream",
          "text": [
            "(534, 6)\n",
            "(534,)\n",
            "(357, 6)\n"
          ]
        }
      ],
      "source": [
        "# Checking the shape of our X_train,y_train and X_test\n",
        "print(X_train.shape)\n",
        "print(y_train.shape)\n",
        "print(X_test.shape)"
      ]
    },
    {
      "cell_type": "code",
      "execution_count": 122,
      "metadata": {
        "colab": {
          "base_uri": "https://localhost:8080/"
        },
        "id": "ijRiqq0MLa0S",
        "outputId": "03461d03-f031-4444-8279-88d0bd9e4e9d"
      },
      "outputs": [
        {
          "data": {
            "text/plain": [
              "KNeighborsClassifier()"
            ]
          },
          "execution_count": 122,
          "metadata": {},
          "output_type": "execute_result"
        }
      ],
      "source": [
        "# Instantiating the model\n",
        "classifier = KNeighborsClassifier(n_neighbors=5)\n",
        "classifier.fit(X_train, y_train)"
      ]
    },
    {
      "cell_type": "code",
      "execution_count": 123,
      "metadata": {
        "id": "3GALTn2RLa0S"
      },
      "outputs": [],
      "source": [
        "# Predict based on the model we've trained\n",
        "y_pred = classifier.predict(X_test)"
      ]
    },
    {
      "cell_type": "code",
      "execution_count": 124,
      "metadata": {
        "colab": {
          "base_uri": "https://localhost:8080/"
        },
        "id": "dNuHE5SqLa0S",
        "outputId": "e856da0a-01a2-45b8-ca0e-354ac7cfd155"
      },
      "outputs": [
        {
          "name": "stdout",
          "output_type": "stream",
          "text": [
            "The accuracy score is: 0.7675070028011205 and the f1 score is 0.6819923371647508\n",
            "              precision    recall  f1-score   support\n",
            "\n",
            "           0       0.80      0.84      0.82       221\n",
            "           1       0.71      0.65      0.68       136\n",
            "\n",
            "    accuracy                           0.77       357\n",
            "   macro avg       0.75      0.75      0.75       357\n",
            "weighted avg       0.76      0.77      0.77       357\n",
            "\n"
          ]
        },
        {
          "data": {
            "text/plain": [
              "array([[185,  36],\n",
              "       [ 47,  89]])"
            ]
          },
          "execution_count": 124,
          "metadata": {},
          "output_type": "execute_result"
        }
      ],
      "source": [
        " # Measuring the accuracy of the model\n",
        "print(f'The accuracy score is: {accuracy_score(y_test, y_pred)} and the f1 score is {f1_score(y_test, y_pred)}')\n",
        "print(f'{classification_report(y_test, y_pred)}')\n",
        "confusion_matrix(y_test, y_pred)"
      ]
    },
    {
      "cell_type": "markdown",
      "metadata": {
        "id": "qypssCVMLa0S"
      },
      "source": [
        "- Our accuracy score is 76.75% and the f1 score is 0.68. This means that our model is not so bad, but it is slightly less accurate than when we did the (80-20) split and slighly more accurate compared to the (70-30) split. \n",
        "- According to the confusion matrix, our model was able to correctly predict 185 passengers who survived and 89 passengers who did not survive(Total - 274). It however gave wrong predictions of 36 passengers who survived and 47 passengers who did not survive (Total - 83).\n",
        "- Overall, the correct predictions are more than the incorrect prediction, hence our model is decent enough, but not better performing compared to our inital model of the (80-20) split."
      ]
    },
    {
      "cell_type": "markdown",
      "metadata": {
        "id": "XL9VDgRCLa0T"
      },
      "source": [
        "#### Performing the Prediction on our Test Set"
      ]
    },
    {
      "cell_type": "code",
      "execution_count": 126,
      "metadata": {
        "id": "HXDfkXt6La0T"
      },
      "outputs": [],
      "source": [
        "# Making a copy of our original dataset so that I can work on the copy and keep the original\n",
        "test_df3=test_df.copy()"
      ]
    },
    {
      "cell_type": "code",
      "execution_count": 127,
      "metadata": {
        "id": "74xgX_X7La0T"
      },
      "outputs": [],
      "source": [
        "# Assigning categorical columns to the variable cols, then converting it to an array\n",
        "cols_testdf3=test_df3.select_dtypes(include=\"object\").columns.tolist()"
      ]
    },
    {
      "cell_type": "code",
      "execution_count": 128,
      "metadata": {
        "id": "DE5CKcLOLa0U"
      },
      "outputs": [],
      "source": [
        "# Label Encoding our categorical variable\n",
        "le=LabelEncoder()\n",
        "test_df3[cols_testdf3]=test_df3[cols_testdf3].apply(le.fit_transform)"
      ]
    },
    {
      "cell_type": "code",
      "execution_count": 129,
      "metadata": {
        "id": "7TBVjaXSLa0U"
      },
      "outputs": [],
      "source": [
        "# Let's drop ther survived column in our X, along with other unnecessary columns in our prediction\n",
        "# Standardising our features and Assigning varibale to our X and y\n",
        "X_test3=StandardScaler().fit_transform(test_df3.drop(['passengerid', 'name','fare','ticket'], axis=1))"
      ]
    },
    {
      "cell_type": "code",
      "execution_count": 130,
      "metadata": {
        "colab": {
          "base_uri": "https://localhost:8080/"
        },
        "id": "pWAXMxf6La0U",
        "outputId": "4e3bd78a-8de1-4b91-bf03-d979a07ed254"
      },
      "outputs": [
        {
          "data": {
            "text/plain": [
              "array([0, 0, 0, 0, 1, 0, 1, 0, 1, 0, 0, 0, 1, 0, 1, 1, 0, 0, 1, 1, 0, 1,\n",
              "       1, 0, 1, 0, 1, 1, 1, 0, 0, 0, 0, 0, 0, 0, 0, 1, 0, 0, 0, 0, 0, 1,\n",
              "       1, 0, 1, 0, 1, 1, 0, 0, 0, 1, 0, 0, 0, 0, 0, 1, 0, 0, 0, 1, 1, 1,\n",
              "       1, 0, 0, 1, 1, 0, 0, 0, 1, 0, 0, 1, 0, 1, 1, 0, 0, 0, 0, 0, 1, 1,\n",
              "       1, 1, 0, 0, 1, 0, 0, 0, 1, 0, 1, 1, 1, 0, 0, 0, 1, 1, 0, 0, 0, 0,\n",
              "       0, 1, 1, 1, 1, 1, 0, 0, 1, 1, 1, 0, 1, 1, 0, 1, 0, 0, 0, 0, 0, 0,\n",
              "       0, 0, 0, 0, 0, 0, 1, 0, 0, 1, 0, 0, 0, 0, 0, 0, 0, 0, 1, 0, 0, 1,\n",
              "       0, 0, 1, 1, 0, 0, 1, 1, 1, 0, 0, 0, 0, 0, 1, 1, 0, 0, 0, 0, 0, 1,\n",
              "       1, 0, 1, 1, 0, 1, 1, 0, 1, 0, 1, 0, 0, 0, 0, 0, 1, 0, 1, 1, 1, 1,\n",
              "       0, 0, 1, 1, 0, 1, 0, 0, 1, 0, 1, 0, 0, 0, 0, 1, 0, 0, 1, 0, 1, 0,\n",
              "       1, 0, 1, 0, 1, 0, 0, 1, 0, 0, 0, 1, 0, 0, 1, 0, 0, 0, 1, 1, 1, 1,\n",
              "       1, 0, 0, 1, 1, 0, 1, 1, 1, 0, 0, 0, 1, 0, 0, 1, 1, 0, 0, 0, 1, 0,\n",
              "       0, 0, 0, 0, 0, 0, 1, 0, 1, 1, 0, 1, 0, 0, 0, 0, 1, 1, 1, 1, 0, 0,\n",
              "       0, 0, 0, 0, 0, 1, 0, 1, 0, 0, 1, 0, 0, 0, 0, 0, 0, 0, 1, 1, 0, 1,\n",
              "       0, 1, 0, 1, 0, 1, 1, 1, 0, 0, 0, 0, 0, 0, 0, 0, 1, 0, 0, 1, 0, 0,\n",
              "       1, 1, 0, 1, 0, 0, 0, 0, 0, 0, 0, 0, 0, 1, 0, 1, 0, 1, 0, 1, 1, 0,\n",
              "       0, 0, 0, 0, 1, 0, 0, 1, 0, 1, 1, 0, 1, 0, 0, 1, 1, 0, 0, 1, 0, 0,\n",
              "       1, 1, 0, 0, 0, 0, 0, 0, 0, 0, 0, 1, 0, 0, 0, 0, 1, 1, 1, 0, 0, 1,\n",
              "       0, 1, 0, 0, 1, 0, 1, 1, 1, 0, 0, 1, 1, 0, 1, 1, 0, 0, 1, 0, 0, 0])"
            ]
          },
          "execution_count": 130,
          "metadata": {},
          "output_type": "execute_result"
        }
      ],
      "source": [
        "# Making a prediction on our Test Dataset\n",
        "y_pred = classifier.predict(X_test3)\n",
        "y_pred"
      ]
    },
    {
      "cell_type": "markdown",
      "metadata": {
        "id": "SjkyNPNeNfCU"
      },
      "source": [
        "After performing the three splits(80-20, 70-30, and 60-40), they all yielded decend results. Below are their accuracy and f1 scores:\n",
        "- 80-20 Split: Accuracy Score - 78.77% and f1 score - 0.70\n",
        "- 70-30 Split: Accuracy Score - 76.49%% and f1 score - 0.68\n",
        "- 60-40 Split: Accuracy Score - 76.75% and f1 score - 0.68\n",
        "\n",
        "I will therefore recommend the 80-20 split for this dataset."
      ]
    },
    {
      "cell_type": "markdown",
      "metadata": {
        "id": "UUy4EBxwO8C9"
      },
      "source": [
        "#### Optimizing the Best Performing (80-20 Split) Model using LDA"
      ]
    },
    {
      "cell_type": "code",
      "execution_count": 142,
      "metadata": {
        "id": "qt6vO1YHSaOz"
      },
      "outputs": [],
      "source": [
        "# Making a copy of our original dataset so that I can work on the copy and keep the original\n",
        "train_df4=train_df.copy()"
      ]
    },
    {
      "cell_type": "code",
      "execution_count": 143,
      "metadata": {
        "colab": {
          "base_uri": "https://localhost:8080/"
        },
        "id": "G440g-SqTYbL",
        "outputId": "bc29f6ba-25c7-407f-e6a9-944469c764e3"
      },
      "outputs": [
        {
          "data": {
            "text/plain": [
              "Index(['passengerid', 'survived', 'pclass', 'name', 'sex', 'age', 'sibsp',\n",
              "       'parch', 'ticket', 'fare', 'embarked'],\n",
              "      dtype='object')"
            ]
          },
          "execution_count": 143,
          "metadata": {},
          "output_type": "execute_result"
        }
      ],
      "source": [
        "# Checking the columns of the dataset\n",
        "train_df4.columns"
      ]
    },
    {
      "cell_type": "code",
      "execution_count": 145,
      "metadata": {
        "id": "x7dLIyFHU7hI"
      },
      "outputs": [],
      "source": [
        "# Assigning categorical columns to the variable cols, then converting it to an array\n",
        "cols_traindf4=train_df4.select_dtypes(include=\"object\").columns.tolist()"
      ]
    },
    {
      "cell_type": "code",
      "execution_count": 146,
      "metadata": {
        "id": "Q5j_7JOCU7hI"
      },
      "outputs": [],
      "source": [
        "# Label Encoding our categorical variable\n",
        "le=LabelEncoder()\n",
        "train_df4[cols_traindf4]=train_df4[cols_traindf4].apply(le.fit_transform)"
      ]
    },
    {
      "cell_type": "code",
      "execution_count": 147,
      "metadata": {
        "id": "YMp90OYVPAXl"
      },
      "outputs": [],
      "source": [
        "n_neighbors = 5\n",
        "random_state = 0\n",
        "\n",
        "# Splitting the data into dependent and independent variables\n",
        "X = train_df4.drop('survived', axis=1)\n",
        "y = train_df4.iloc[:, 1].values\n",
        "\n",
        "# Creating a Train and Test Split\n",
        "#Train using 80% of the data.\n",
        "X_train, X_test, y_train, y_test = train_test_split(X, y, test_size=.2, random_state=0)\n",
        "\n",
        "# Performing Feature Scaling\n",
        "sc = StandardScaler()\n",
        "X_train = sc.fit_transform(X_train)\n",
        "X_test = sc.transform(X_test)\n",
        "\n",
        "# Perfoming LDA to reduce the dimentionality of our dataset\n",
        "lda = LDA(n_components=1)\n",
        "X_train = lda.fit_transform(X_train, y_train)\n",
        "X_test = lda.transform(X_test)"
      ]
    },
    {
      "cell_type": "code",
      "execution_count": 149,
      "metadata": {
        "id": "nEZsQxWjUGo-"
      },
      "outputs": [],
      "source": [
        "# Training and Making Predictions\n",
        "# We will use the KNN classifier to evaluate the performance of a LDA-reduced algorithms as shown\n",
        "# \n",
        "\n",
        "classifier = KNeighborsClassifier(n_neighbors=5)\n",
        "classifier.fit(X_train, y_train)\n",
        "y_pred = classifier.predict(X_test)"
      ]
    },
    {
      "cell_type": "code",
      "execution_count": 150,
      "metadata": {
        "colab": {
          "base_uri": "https://localhost:8080/"
        },
        "id": "TVezvIrHVpHF",
        "outputId": "17fc3236-a908-4f61-a3b0-32b2ebc8cbc4"
      },
      "outputs": [
        {
          "name": "stdout",
          "output_type": "stream",
          "text": [
            "The accuracy score is: 0.7821229050279329 and the f1 score is 0.7022900763358778\n",
            "              precision    recall  f1-score   support\n",
            "\n",
            "           0       0.80      0.85      0.83       110\n",
            "           1       0.74      0.67      0.70        69\n",
            "\n",
            "    accuracy                           0.78       179\n",
            "   macro avg       0.77      0.76      0.77       179\n",
            "weighted avg       0.78      0.78      0.78       179\n",
            "\n"
          ]
        },
        {
          "data": {
            "text/plain": [
              "array([[94, 16],\n",
              "       [23, 46]])"
            ]
          },
          "execution_count": 150,
          "metadata": {},
          "output_type": "execute_result"
        }
      ],
      "source": [
        " # Measuring the accuracy of the model\n",
        "print(f'The accuracy score is: {accuracy_score(y_test, y_pred)} and the f1 score is {f1_score(y_test, y_pred)}')\n",
        "print(f'{classification_report(y_test, y_pred)}')\n",
        "confusion_matrix(y_test, y_pred)"
      ]
    },
    {
      "cell_type": "markdown",
      "metadata": {
        "id": "DNG5RfM9Vy7E"
      },
      "source": [
        "- Our accuracy score is 78.21% and the f1 score is 0.70. This means that our model is not so bad, but it is slightly less accurate than when we did the (80-20) split before perfoming LDA.\n",
        "- According to the confusion matrix, our model was able to correctly predict 94 passengers who survived and 46 passengers who did not survive(Total - 140). It however gave wrong predictions of 16 passengers who survived and 23 passengers who did not survive (Total - 39).\n",
        "- Overall, the correct predictions are more than the incorrect prediction, hence our model is decent enough, but not better performing compared to our inital model of the (80-20) split without performing LDA."
      ]
    },
    {
      "cell_type": "markdown",
      "metadata": {
        "id": "rN_g7CMuO1S3"
      },
      "source": [
        "##8. Challenging the Solution"
      ]
    },
    {
      "cell_type": "markdown",
      "metadata": {
        "id": "ltr4vpl1XuiS"
      },
      "source": [
        "#### Performing LDA and using Random Forest Classifier"
      ]
    },
    {
      "cell_type": "code",
      "execution_count": 151,
      "metadata": {
        "id": "3F_EaI0bXId5"
      },
      "outputs": [],
      "source": [
        "# Making a copy of our original dataset so that I can work on the copy and keep the original\n",
        "train_df5=train_df.copy()"
      ]
    },
    {
      "cell_type": "code",
      "execution_count": 152,
      "metadata": {
        "colab": {
          "base_uri": "https://localhost:8080/"
        },
        "id": "8fRarLTFXId5",
        "outputId": "84b178f6-24a7-410d-edd9-a0e289a5a39b"
      },
      "outputs": [
        {
          "data": {
            "text/plain": [
              "Index(['passengerid', 'survived', 'pclass', 'name', 'sex', 'age', 'sibsp',\n",
              "       'parch', 'ticket', 'fare', 'embarked'],\n",
              "      dtype='object')"
            ]
          },
          "execution_count": 152,
          "metadata": {},
          "output_type": "execute_result"
        }
      ],
      "source": [
        "# Checking the columns of the dataset\n",
        "train_df5.columns"
      ]
    },
    {
      "cell_type": "code",
      "execution_count": 153,
      "metadata": {
        "id": "W_gea44JXId6"
      },
      "outputs": [],
      "source": [
        "# Assigning categorical columns to the variable cols, then converting it to an array\n",
        "cols_traindf5=train_df5.select_dtypes(include=\"object\").columns.tolist()"
      ]
    },
    {
      "cell_type": "code",
      "execution_count": 154,
      "metadata": {
        "id": "psIzsaDLXId6"
      },
      "outputs": [],
      "source": [
        "# Label Encoding our categorical variable\n",
        "le=LabelEncoder()\n",
        "train_df5[cols_traindf5]=train_df5[cols_traindf5].apply(le.fit_transform)"
      ]
    },
    {
      "cell_type": "code",
      "execution_count": 157,
      "metadata": {
        "id": "IYuLHmvfXId6"
      },
      "outputs": [],
      "source": [
        "n_neighbors = 5\n",
        "random_state = 0\n",
        "\n",
        "# Splitting the data into dependent and independent variables\n",
        "X = train_df5.drop('survived', axis=1)\n",
        "y = train_df5.iloc[:, 1].values\n",
        "\n",
        "# Creating a Train and Test Split\n",
        "#Train using 80% of the data.\n",
        "X_train, X_test, y_train, y_test = train_test_split(X, y, test_size=.2, random_state=0)\n",
        "\n",
        "# Performing Feature Scaling\n",
        "sc = StandardScaler()\n",
        "X_train = sc.fit_transform(X_train)\n",
        "X_test = sc.transform(X_test)\n",
        "\n",
        "# Perfoming LDA to reduce the dimentionality of our dataset\n",
        "lda = LDA(n_components=1)\n",
        "X_train = lda.fit_transform(X_train, y_train)\n",
        "X_test = lda.transform(X_test)"
      ]
    },
    {
      "cell_type": "code",
      "execution_count": 158,
      "metadata": {
        "id": "MEbeNbjRXId6"
      },
      "outputs": [],
      "source": [
        "# Training and Making Predictions\n",
        "# We will use the Random Forest classifier to evaluate the performance of a LDA-reduced algorithms as shown\n",
        "# \n",
        "\n",
        "from sklearn.ensemble import RandomForestClassifier\n",
        "\n",
        "classifier = RandomForestClassifier(max_depth=2, random_state=0)\n",
        "classifier.fit(X_train, y_train)\n",
        "y_pred = classifier.predict(X_test)"
      ]
    },
    {
      "cell_type": "code",
      "execution_count": 159,
      "metadata": {
        "colab": {
          "base_uri": "https://localhost:8080/"
        },
        "id": "cLQOfsp9XId6",
        "outputId": "1b45e7f7-b2d2-45e4-ca0d-44d460c8cde5"
      },
      "outputs": [
        {
          "name": "stdout",
          "output_type": "stream",
          "text": [
            "The accuracy score is: 0.8100558659217877 and the f1 score is 0.7258064516129032\n",
            "              precision    recall  f1-score   support\n",
            "\n",
            "           0       0.81      0.91      0.85       110\n",
            "           1       0.82      0.65      0.73        69\n",
            "\n",
            "    accuracy                           0.81       179\n",
            "   macro avg       0.81      0.78      0.79       179\n",
            "weighted avg       0.81      0.81      0.81       179\n",
            "\n"
          ]
        },
        {
          "data": {
            "text/plain": [
              "array([[100,  10],\n",
              "       [ 24,  45]])"
            ]
          },
          "execution_count": 159,
          "metadata": {},
          "output_type": "execute_result"
        }
      ],
      "source": [
        " # Measuring the accuracy of the model\n",
        "print(f'The accuracy score is: {accuracy_score(y_test, y_pred)} and the f1 score is {f1_score(y_test, y_pred)}')\n",
        "print(f'{classification_report(y_test, y_pred)}')\n",
        "confusion_matrix(y_test, y_pred)"
      ]
    },
    {
      "cell_type": "markdown",
      "metadata": {
        "id": "XF-OHWiqOkDk"
      },
      "source": [
        "The accuracy score of Random Forest Classifier is 81% and the f1 score is 0.73."
      ]
    },
    {
      "cell_type": "markdown",
      "metadata": {
        "id": "SxP0ww_dYWZW"
      },
      "source": [
        "## Conclusion"
      ]
    },
    {
      "cell_type": "markdown",
      "metadata": {
        "id": "Q-3sHCRPYZ4b"
      },
      "source": [
        "- After challenging my solution, I found that Random Forest Classifier performs better than the best model of KNN (80-20) split. Random Forest provides 81% accuracy, while KNN (80-20) split provides 78.77%.\n",
        "- This, therefore make Random Forest Classifier the best option for this dataset."
      ]
    }
  ],
  "metadata": {
    "colab": {
      "collapsed_sections": [],
      "name": "Titanic_Analysis.ipynb",
      "provenance": []
    },
    "kernelspec": {
      "display_name": "Python 3",
      "name": "python3"
    },
    "language_info": {
      "name": "python"
    }
  },
  "nbformat": 4,
  "nbformat_minor": 0
}
